{
 "cells": [
  {
   "cell_type": "code",
   "execution_count": 3,
   "metadata": {},
   "outputs": [
    {
     "name": "stderr",
     "output_type": "stream",
     "text": [
      "c:\\Users\\nhant\\anaconda3\\envs\\sentiment-env\\lib\\site-packages\\tqdm\\auto.py:21: TqdmWarning: IProgress not found. Please update jupyter and ipywidgets. See https://ipywidgets.readthedocs.io/en/stable/user_install.html\n",
      "  from .autonotebook import tqdm as notebook_tqdm\n"
     ]
    }
   ],
   "source": [
    "import os\n",
    "import sys\n",
    "import pandas as pd\n",
    "from flair.nn import Classifier\n",
    "from flair.data import Sentence\n",
    "\n",
    "# Initialize Flair Sentiment Classifier\n",
    "classifier = Classifier.load('sentiment')"
   ]
  },
  {
   "cell_type": "code",
   "execution_count": 15,
   "metadata": {},
   "outputs": [
    {
     "name": "stdout",
     "output_type": "stream",
     "text": [
      "allreviews/googleplay-review-mimo.csv\n",
      "Sentiment analysis completed and saved to: googleplay-review-mimo_sentiment.csv\n",
      "allreviews/googleplay-review-programming-hero.csv\n",
      "Sentiment analysis completed and saved to: googleplay-review-programming-hero_sentiment.csv\n",
      "allreviews/googleplay-review-programming-hub.csv\n",
      "Sentiment analysis completed and saved to: googleplay-review-programming-hub_sentiment.csv\n",
      "allreviews/googleplay-review-sololearn.csv\n",
      "Sentiment analysis completed and saved to: googleplay-review-sololearn_sentiment.csv\n"
     ]
    }
   ],
   "source": [
    "filelist = [file for file in os.listdir('review-files/')]\n",
    "\n",
    "for file in filelist:\n",
    "\n",
    "    print(file)\n",
    "    df = pd.read_csv('review-files/' + file)\n",
    "    df = df.rename(columns={\"content\": \"review\", \"score\": \"rating\", \"at\": \"date\"})\n",
    "    sentiments = []\n",
    "    for review in df['review']:\n",
    "        try:\n",
    "            review = str(review)\n",
    "            sentence = Sentence(review)\n",
    "            classifier.predict(sentence)\n",
    "            sentiment = sentence.labels[0].value\n",
    "            sentiments.append(sentiment)\n",
    "        except Exception as e:\n",
    "            print(e, type(e))\n",
    "            print(review)\n",
    "\n",
    "    df['sentiment'] = sentiments\n",
    "\n",
    "    output_file = os.path.splitext(file)[0] + \"_sentiment.csv\"\n",
    "\n",
    "    df.to_csv('review-files-sentiment/' + output_file, index=False)\n",
    "\n",
    "    print('Sentiment analysis completed and saved to:', output_file)\n"
   ]
  }
 ],
 "metadata": {
  "kernelspec": {
   "display_name": "sentiment-env",
   "language": "python",
   "name": "python3"
  },
  "language_info": {
   "codemirror_mode": {
    "name": "ipython",
    "version": 3
   },
   "file_extension": ".py",
   "mimetype": "text/x-python",
   "name": "python",
   "nbconvert_exporter": "python",
   "pygments_lexer": "ipython3",
   "version": "3.10.9"
  },
  "orig_nbformat": 4
 },
 "nbformat": 4,
 "nbformat_minor": 2
}

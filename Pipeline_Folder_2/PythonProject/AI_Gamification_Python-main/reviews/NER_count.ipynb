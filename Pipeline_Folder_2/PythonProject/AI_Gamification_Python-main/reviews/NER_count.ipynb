{
 "cells": [
  {
   "cell_type": "code",
   "execution_count": 2,
   "metadata": {},
   "outputs": [],
   "source": [
    "import pandas as pd\n",
    "import numpy as np\n",
    "import os\n",
    "import sys\n"
   ]
  },
  {
   "cell_type": "code",
   "execution_count": 12,
   "metadata": {},
   "outputs": [
    {
     "name": "stdout",
     "output_type": "stream",
     "text": [
      "googleplay-review-programming-hub_NER.csv\n",
      "applestore-review-learn-python-programiz_NER.csv\n",
      "googleplay-review-learn-python-programiz_NER.csv\n",
      "applestore-review-codeacademy_NER.csv\n",
      "googleplay-review-codeacademy_NER.csv\n",
      "googleplay-review-programming-hero_NER.csv\n",
      "applestore-review-python-x_NER.csv\n",
      "applestore-review-sololearn_NER.csv\n",
      "googleplay-review-encode_NER.csv\n",
      "applestore-review-programming-hub_NER.csv\n",
      "applestore-review-programming-hero_NER.csv\n",
      "applestore-review-encode_NER.csv\n",
      "googleplay-review-datacamp_NER.csv\n",
      "applestore-review-datacamp_NER.csv\n",
      "applestore-review-mimo_NER.csv\n",
      "googleplay-review-sololearn_NER.csv\n",
      "googleplay-review-mimo_NER.csv\n"
     ]
    }
   ],
   "source": [
    "filelist = [file for file in os.listdir('review-files-NER')]\n",
    "\n",
    "for file in filelist:\n",
    "    print(file)\n",
    "    df = pd.read_csv('./review-files-NER/' + file)\n",
    "    x = df['NER_Text'].value_counts()\n",
    "    #print(x)\n",
    "\n",
    "    reduced_df = df.groupby('NER_Text').agg({'NER_Text': 'count', 'NER_Label': 'first'})\n",
    "    reduced_df.columns = ['Count', 'NER_Label']\n",
    "    reduced_df = reduced_df.sort_values('Count', ascending=False)\n",
    "\n",
    "    #print(reduced_df)\n",
    "    output_file = os.path.splitext(file)[0] + '_count.csv'\n",
    "    reduced_df.to_csv('./NER-count/' + output_file)\n",
    "\n",
    "    "
   ]
  },
  {
   "cell_type": "code",
   "execution_count": 15,
   "metadata": {},
   "outputs": [],
   "source": [
    "filelist = [file for file in os.listdir('review-files-NER')]\n",
    "\n",
    "combinedf = pd.DataFrame()\n",
    "\n",
    "for file in filelist:\n",
    "    df = pd.read_csv('./review-files-NER/' + file)\n",
    "    combinedf = pd.concat([combinedf, df])\n",
    "\n",
    "\n",
    "reduced_df = df.groupby('NER_Text').agg({'NER_Text': 'count', 'NER_Label': 'first'})\n",
    "reduced_df.columns = ['Count', 'NER_Label']\n",
    "reduced_df = reduced_df.sort_values('Count', ascending=False)\n",
    "\n",
    "#print(reduced_df)\n",
    "output_file = os.path.splitext(file)[0] + '_count.csv'\n",
    "reduced_df.to_csv('overall-NER-count.csv')"
   ]
  },
  {
   "cell_type": "code",
   "execution_count": 13,
   "metadata": {},
   "outputs": [
    {
     "name": "stdout",
     "output_type": "stream",
     "text": [
      "learn-python-programiz_Spanish_NER.csv\n",
      "programming-hub_Spanish_NER.csv\n",
      "programming-hero_Spanish_NER.csv\n",
      "codeacademy_Spanish_NER.csv\n",
      "datacamp_Spanish_NER.csv\n",
      "mimo_Spanish_NER.csv\n",
      "sololearn_Spanish_NER.csv\n"
     ]
    }
   ],
   "source": [
    "filelist = [file for file in os.listdir('review-files-Spanish-NER')]\n",
    "\n",
    "for file in filelist:\n",
    "    print(file)\n",
    "    df = pd.read_csv('./review-files-Spanish-NER/' + file)\n",
    "    x = df['NER_Text'].value_counts()\n",
    "    #print(x)\n",
    "\n",
    "    reduced_df = df.groupby('NER_Text').agg({'NER_Text': 'count', 'NER_Label': 'first'})\n",
    "    reduced_df.columns = ['Count', 'NER_Label']\n",
    "    reduced_df = reduced_df.sort_values('Count', ascending=False)\n",
    "\n",
    "    #print(reduced_df)\n",
    "    output_file = os.path.splitext(file)[0] + '_count.csv'\n",
    "    reduced_df.to_csv('./NER-count-Spanish/' + output_file)\n"
   ]
  },
  {
   "cell_type": "code",
   "execution_count": 16,
   "metadata": {},
   "outputs": [],
   "source": [
    "filelist = [file for file in os.listdir('review-files-Spanish-NER')]\n",
    "\n",
    "combinedf = pd.DataFrame()\n",
    "\n",
    "for file in filelist:\n",
    "    df = pd.read_csv('./review-files-Spanish-NER/' + file)\n",
    "    combinedf = pd.concat([combinedf, df])\n",
    "\n",
    "\n",
    "reduced_df = df.groupby('NER_Text').agg({'NER_Text': 'count', 'NER_Label': 'first'})\n",
    "reduced_df.columns = ['Count', 'NER_Label']\n",
    "reduced_df = reduced_df.sort_values('Count', ascending=False)\n",
    "\n",
    "#print(reduced_df)\n",
    "output_file = os.path.splitext(file)[0] + '_count.csv'\n",
    "reduced_df.to_csv('overall-NER-count_Spanish.csv')"
   ]
  }
 ],
 "metadata": {
  "kernelspec": {
   "display_name": "Python 3",
   "language": "python",
   "name": "python3"
  },
  "language_info": {
   "codemirror_mode": {
    "name": "ipython",
    "version": 3
   },
   "file_extension": ".py",
   "mimetype": "text/x-python",
   "name": "python",
   "nbconvert_exporter": "python",
   "pygments_lexer": "ipython3",
   "version": "3.10.6"
  },
  "orig_nbformat": 4
 },
 "nbformat": 4,
 "nbformat_minor": 2
}
